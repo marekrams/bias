{
 "cells": [
  {
   "cell_type": "code",
   "execution_count": 1,
   "metadata": {},
   "outputs": [],
   "source": [
    "import numpy as np\n",
    "import matplotlib.pyplot as plt\n",
    "import matplotlib.colors as mcolors\n",
    "import csv\n",
    "from pathlib import Path\n",
    "import glob"
   ]
  },
  {
   "cell_type": "code",
   "execution_count": null,
   "metadata": {},
   "outputs": [],
   "source": [
    "import numpy as np\n",
    "import matplotlib.pyplot as plt\n",
    "import matplotlib.colors as mcolors\n",
    "import csv\n",
    "from pathlib import Path\n",
    "import glob"
   ]
  },
  {
   "cell_type": "code",
   "execution_count": 4,
   "metadata": {},
   "outputs": [],
   "source": [
    "data = {}\n",
    "for fname in glob.glob(\"./bias_**/**/*.csv\", recursive=True):\n",
    "    unit = 2 if \"cluster\" in fname else 1\n",
    "    param = fname.split(\"/\")\n",
    "    hz = param[2][3:]\n",
    "    ta = param[3][3:]\n",
    "    E = param[4][2:5]\n",
    "    if 'new' in param[5]: \n",
    "        fieldnames = [\"D\", \"which\", \"chi\", \"dt\", \"Delta\", \"time\", \"Ezz\", \"Ez\", \"Ex\"]\n",
    "        dtypes =     [int, str, int, float, float, float, float, float, float]\n",
    "        sf = param[5][12:15]\n",
    "        ind = (hz, ta, E, sf, unit)\n",
    "    else:\n",
    "        fieldnames = [\"D\", \"which\", \"dt\", \"Delta\", \"time\", \"Ezz\", \"Ez\", \"Ex\"]\n",
    "        dtypes =     [int, str, float, float, float, float, float, float]\n",
    "        sf = param[5][8:11]\n",
    "        ind = (hz, ta, E, sf, unit)\n",
    "    \n",
    "    with open(fname, 'r', newline='') as csvfile:\n",
    "        csvfile.readline()\n",
    "        data[ind] = []\n",
    "        for x in csv.DictReader(csvfile, fieldnames=fieldnames, delimiter=\";\"):\n",
    "            for fn, typ in zip(fieldnames, dtypes):\n",
    "                x[fn] = typ(x[fn])\n",
    "            x[\"Eng\"] = (-2 * x[\"Ezz\"] - float(hz) * x[\"Ez\"])   \n",
    "            data[ind].append(x)\n"
   ]
  },
  {
   "cell_type": "code",
   "execution_count": null,
   "metadata": {},
   "outputs": [
    {
     "ename": "",
     "evalue": "",
     "output_type": "error",
     "traceback": [
      "\u001b[1;31mThe Kernel crashed while executing code in the current cell or a previous cell. \n",
      "\u001b[1;31mPlease review the code in the cell(s) to identify a possible cause of the failure. \n",
      "\u001b[1;31mClick <a href='https://aka.ms/vscodeJupyterKernelCrash'>here</a> for more info. \n",
      "\u001b[1;31mView Jupyter <a href='command:jupyter.viewOutput'>log</a> for further details."
     ]
    }
   ],
   "source": [
    "tmp = [\n",
    "        [1.0, -0.01, 0.005378, -1.4548991789819377, 0.13351395730706075],\n",
    "        [1.0, -0.01, 0.006215, -1.5013544252873563, 0.15054926108374383],\n",
    "        [1.0, -0.01, 0.007182, -1.5354535960591134, 0.16621346469622333],\n",
    "        [1.0, -0.01, 0.008299, -1.574988037766831, 0.18205500821018064],\n",
    "        [1.0, -0.01, 0.00959, -1.6203180870279146, 0.24059359605911332],\n",
    "        [1.0, -0.123285, 0.005378, -1.7781699161083744, 0.7834581280788178],\n",
    "        [1.0, -0.123285, 0.006215, -1.85247941819376, 0.8421149425287355],\n",
    "        [1.0, -0.123285, 0.007182, -1.9092483911042695, 0.8907134646962234],\n",
    "        [1.0, -0.123285, 0.008299, -1.9876160641133007, 0.9358571428571429],\n",
    "        [1.0, -0.123285, 0.00959, -2.032800773132184, 0.9644129720853859],\n",
    "        [0.5, -0.01, 0.005549, -1.705386592775041, 0.3167380952380952],\n",
    "        [0.5, -0.01, 0.006412, -1.733872684729064, 0.33603694581280785],\n",
    "        [0.5, -0.01, 0.00741, -1.7638589408866998, 0.393611658456486],\n",
    "        [0.5, -0.01, 0.008562, -1.793247142857143, 0.4612495894909688],\n",
    "        [0.5, -0.01, 0.009894, -1.8259166584564863, 0.5314031198686371],\n",
    "        [0.5, -0.123285, 0.005549, -2.111726872142857, 0.9973908045977011],\n",
    "        [0.5, -0.123285, 0.006412, -2.115999018251231, 0.9990788177339901],\n",
    "        [0.5, -0.123285, 0.00741, -2.1177036078489326, 0.9995862068965516],\n",
    "        [0.5, -0.123285, 0.008562, -2.1178193599712642, 0.9996527093596057],\n",
    "        [0.5, -0.123285, 0.009894, -2.119064000024631, 0.9999655172413793],\n",
    "    ]\n",
    "\n",
    "dwave = {}\n",
    "for rec in tmp:\n",
    "    hz = f\"{-rec[1]:0.4f}\"\n",
    "    ta = f\"{1000 * rec[2]:0.4f}\"\n",
    "    E = f\"{1/rec[0]:0.1f}\"\n",
    "    dwave[(hz, ta, E)] = {\"Ez\": rec[4], \"Eng\": rec[3], \"Ezz\": (rec[3] - rec[1]*rec[4])/2}\n"
   ]
  },
  {
   "cell_type": "code",
   "execution_count": null,
   "metadata": {},
   "outputs": [
    {
     "data": {
      "text/plain": [
       "{('0.0100', '5.3780', '1.0'): {'Ez': 0.13351395730706075,\n",
       "  'Eng': -1.4548991789819377,\n",
       "  'Ezz': -0.7267820197044336},\n",
       " ('0.0100', '6.2150', '1.0'): {'Ez': 0.15054926108374383,\n",
       "  'Eng': -1.5013544252873563,\n",
       "  'Ezz': -0.7499244663382594},\n",
       " ('0.0100', '7.1820', '1.0'): {'Ez': 0.16621346469622333,\n",
       "  'Eng': -1.5354535960591134,\n",
       "  'Ezz': -0.7668957307060755},\n",
       " ('0.0100', '8.2990', '1.0'): {'Ez': 0.18205500821018064,\n",
       "  'Eng': -1.574988037766831,\n",
       "  'Ezz': -0.7865837438423646},\n",
       " ('0.0100', '9.5900', '1.0'): {'Ez': 0.24059359605911332,\n",
       "  'Eng': -1.6203180870279146,\n",
       "  'Ezz': -0.8089560755336617},\n",
       " ('0.1233', '5.3780', '1.0'): {'Ez': 0.7834581280788178,\n",
       "  'Eng': -1.7781699161083744,\n",
       "  'Ezz': -0.8407906403940887},\n",
       " ('0.1233', '6.2150', '1.0'): {'Ez': 0.8421149425287355,\n",
       "  'Eng': -1.85247941819376,\n",
       "  'Ezz': -0.8743296387520525},\n",
       " ('0.1233', '7.1820', '1.0'): {'Ez': 0.8907134646962234,\n",
       "  'Eng': -1.9092483911042695,\n",
       "  'Ezz': -0.8997183908045978},\n",
       " ('0.1233', '8.2990', '1.0'): {'Ez': 0.9358571428571429,\n",
       "  'Eng': -1.9876160641133007,\n",
       "  'Ezz': -0.936119458128079},\n",
       " ('0.1233', '9.5900', '1.0'): {'Ez': 0.9644129720853859,\n",
       "  'Eng': -2.032800773132184,\n",
       "  'Ezz': -0.9569515599343186},\n",
       " ('0.0100', '5.5490', '0.5'): {'Ez': 0.3167380952380952,\n",
       "  'Eng': -1.705386592775041,\n",
       "  'Ezz': -0.85110960591133},\n",
       " ('0.0100', '6.4120', '0.5'): {'Ez': 0.33603694581280785,\n",
       "  'Eng': -1.733872684729064,\n",
       "  'Ezz': -0.8652561576354679},\n",
       " ('0.0100', '7.4100', '0.5'): {'Ez': 0.393611658456486,\n",
       "  'Eng': -1.7638589408866998,\n",
       "  'Ezz': -0.8799614121510675},\n",
       " ('0.0100', '8.5620', '0.5'): {'Ez': 0.4612495894909688,\n",
       "  'Eng': -1.793247142857143,\n",
       "  'Ezz': -0.8943173234811167},\n",
       " ('0.0100', '9.8940', '0.5'): {'Ez': 0.5314031198686371,\n",
       "  'Eng': -1.8259166584564863,\n",
       "  'Ezz': -0.9103013136289},\n",
       " ('0.1233', '5.5490', '0.5'): {'Ez': 0.9973908045977011,\n",
       "  'Eng': -2.111726872142857,\n",
       "  'Ezz': -0.9943817733990147},\n",
       " ('0.1233', '6.4120', '0.5'): {'Ez': 0.9990788177339901,\n",
       "  'Eng': -2.115999018251231,\n",
       "  'Ezz': -0.9964137931034481},\n",
       " ('0.1233', '7.4100', '0.5'): {'Ez': 0.9995862068965516,\n",
       "  'Eng': -2.1177036078489326,\n",
       "  'Ezz': -0.9972348111658457},\n",
       " ('0.1233', '8.5620', '0.5'): {'Ez': 0.9996527093596057,\n",
       "  'Eng': -2.1178193599712642,\n",
       "  'Ezz': -0.9972885878489326},\n",
       " ('0.1233', '9.8940', '0.5'): {'Ez': 0.9999655172413793,\n",
       "  'Eng': -2.119064000024631,\n",
       "  'Ezz': -0.9978916256157637}}"
      ]
     },
     "execution_count": 11,
     "metadata": {},
     "output_type": "execute_result"
    },
    {
     "ename": "",
     "evalue": "",
     "output_type": "error",
     "traceback": [
      "\u001b[1;31mThe Kernel crashed while executing code in the current cell or a previous cell. \n",
      "\u001b[1;31mPlease review the code in the cell(s) to identify a possible cause of the failure. \n",
      "\u001b[1;31mClick <a href='https://aka.ms/vscodeJupyterKernelCrash'>here</a> for more info. \n",
      "\u001b[1;31mView Jupyter <a href='command:jupyter.viewOutput'>log</a> for further details."
     ]
    }
   ],
   "source": [
    "dwave"
   ]
  },
  {
   "cell_type": "code",
   "execution_count": 6,
   "metadata": {},
   "outputs": [],
   "source": [
    "mps = {(\"0.1233\", \"1.0000\", \"1.0\"): {\"Ez\": 0.116, \"Ezz\": 0.443453542},\n",
    "       (\"0.1233\", \"2.0000\", \"1.0\"): {\"Ez\": 0.272, \"Ezz\": 0.57921718},\n",
    "       (\"0.1233\", \"4.0000\", \"1.0\"): {\"Ez\": 0.560, \"Ezz\": 0.682156001}}"
   ]
  },
  {
   "cell_type": "code",
   "execution_count": 7,
   "metadata": {},
   "outputs": [],
   "source": [
    "clrs = {'1': 'y', '2': 'g', '4': 'b', '8': 'r'}\n",
    "\n",
    "def plot_point(hz, ta, E, s):\n",
    "    if not isinstance(hz, str): hz = f\"{hz:0.4f}\"\n",
    "    if not isinstance(ta, str): ta = f\"{ta:0.4f}\"\n",
    "    if not isinstance(E, str):  E = f\"{E:0.1f}\"\n",
    "    if not isinstance(s, str):  s = f\"{s:0.1f}\"\n",
    "\n",
    "    fig, axs = plt.subplots(1, 3)\n",
    "    fig.set_size_inches((12, 4))\n",
    "    for i, val in [(0, 'Delta'), (1, 'Ezz'), (2, 'Ez')]:\n",
    "        ax = axs[i]\n",
    "        for which in [1, 2]:\n",
    "            ind = (hz, ta, E, s, which)\n",
    "            if ind in data:\n",
    "                for tmp in data[ind]:\n",
    "                    clr = clrs[tmp['chi']] if 'chi' in tmp else 'k'\n",
    "                    mrk = 'o'\n",
    "                    if 'chi' in tmp and 1 == which and 'NN' in tmp['which']:\n",
    "                        mrk = 'x' \n",
    "                    if 'chi' in tmp and 1 == which and 'NN' not in tmp['which']:\n",
    "                        mrk = '+' \n",
    "                    if 'chi' in tmp and 2 == which:\n",
    "                        mrk = '.'                     \n",
    "                    ax.scatter([1 / float(tmp[\"D\"])], \n",
    "                            [float(tmp[val])], color=clr, marker=mrk)\n",
    "            ax.set_xlabel('1 / D')\n",
    "        ax.set_ylabel(val)\n",
    "        ax.set_xlim([0, 0.3])\n",
    "    \n",
    "    dind = (hz, ta, E)\n",
    "    print(dind)\n",
    "    if dind in dwave:\n",
    "        axs[2].plot([0, 0.3], [dwave[dind]['Ez']] * 2)\n",
    "        axs[1].plot([0, 0.3], [dwave[dind]['Eng']] * 2)\n",
    "    if dind in mps:\n",
    "        axs[2].plot([0, 0.3], [mps[dind]['Ez']] * 2)\n",
    "        axs[1].plot([0, 0.3], [mps[dind]['Ezz']] * 2)\n",
    "\n",
    "\n",
    "    axs[0].set_ylim([1e-5, 10])\n",
    "    axs[0].set_yscale('log')\n",
    "    # axs[1].set_ylim([0, 1])\n",
    "    # axs[2].set_ylim([-1, 1])\n",
    "\n",
    "    for k, v in clrs.items():\n",
    "        axs[0].scatter([1], [1], marker='x', color=v, label=f\"1site NN+BP chi={k}\")\n",
    "        axs[0].scatter([1], [1], marker='+', color=v, label=f\"1site BP chi={k}\")\n",
    "        axs[0].scatter([1], [1], marker='.', color=v, label=f\"21site BP chi={k}\")\n",
    "\n",
    "    axs[0].scatter([1], [1], marker='o', color='k', label=f\"chi=4D\")\n",
    "    \n",
    "    axs[0].legend()\n",
    "    fig.suptitle(f\"hz={hz} ta={ta} E={E} s={s}\")\n",
    "    fig.tight_layout()\n"
   ]
  },
  {
   "cell_type": "code",
   "execution_count": 8,
   "metadata": {},
   "outputs": [
    {
     "ename": "KeyError",
     "evalue": "1",
     "output_type": "error",
     "traceback": [
      "\u001b[0;31m---------------------------------------------------------------------------\u001b[0m",
      "\u001b[0;31mKeyError\u001b[0m                                  Traceback (most recent call last)",
      "Cell \u001b[0;32mIn[8], line 3\u001b[0m\n\u001b[1;32m      1\u001b[0m \u001b[38;5;66;03m#plot_point(hz=0.01, ta=5.3780, E=1.0, s=0.6)\u001b[39;00m\n\u001b[1;32m      2\u001b[0m \u001b[38;5;28;01mfor\u001b[39;00m ta \u001b[38;5;129;01min\u001b[39;00m [\u001b[38;5;241m1.0\u001b[39m, \u001b[38;5;241m2.0\u001b[39m, \u001b[38;5;241m4.0\u001b[39m, \u001b[38;5;241m5.3780\u001b[39m]:\n\u001b[0;32m----> 3\u001b[0m     \u001b[43mplot_point\u001b[49m\u001b[43m(\u001b[49m\u001b[43mhz\u001b[49m\u001b[38;5;241;43m=\u001b[39;49m\u001b[38;5;241;43m0.1233\u001b[39;49m\u001b[43m,\u001b[49m\u001b[43m \u001b[49m\u001b[43mta\u001b[49m\u001b[38;5;241;43m=\u001b[39;49m\u001b[43mta\u001b[49m\u001b[43m,\u001b[49m\u001b[43m \u001b[49m\u001b[43mE\u001b[49m\u001b[38;5;241;43m=\u001b[39;49m\u001b[38;5;241;43m1.0\u001b[39;49m\u001b[43m,\u001b[49m\u001b[43m \u001b[49m\u001b[43ms\u001b[49m\u001b[38;5;241;43m=\u001b[39;49m\u001b[38;5;241;43m0.6\u001b[39;49m\u001b[43m)\u001b[49m  \u001b[38;5;66;03m# 5.3780\u001b[39;00m\n",
      "Cell \u001b[0;32mIn[7], line 17\u001b[0m, in \u001b[0;36mplot_point\u001b[0;34m(hz, ta, E, s)\u001b[0m\n\u001b[1;32m     15\u001b[0m \u001b[38;5;28;01mif\u001b[39;00m ind \u001b[38;5;129;01min\u001b[39;00m data:\n\u001b[1;32m     16\u001b[0m     \u001b[38;5;28;01mfor\u001b[39;00m tmp \u001b[38;5;129;01min\u001b[39;00m data[ind]:\n\u001b[0;32m---> 17\u001b[0m         clr \u001b[38;5;241m=\u001b[39m \u001b[43mclrs\u001b[49m\u001b[43m[\u001b[49m\u001b[43mtmp\u001b[49m\u001b[43m[\u001b[49m\u001b[38;5;124;43m'\u001b[39;49m\u001b[38;5;124;43mchi\u001b[39;49m\u001b[38;5;124;43m'\u001b[39;49m\u001b[43m]\u001b[49m\u001b[43m]\u001b[49m \u001b[38;5;28;01mif\u001b[39;00m \u001b[38;5;124m'\u001b[39m\u001b[38;5;124mchi\u001b[39m\u001b[38;5;124m'\u001b[39m \u001b[38;5;129;01min\u001b[39;00m tmp \u001b[38;5;28;01melse\u001b[39;00m \u001b[38;5;124m'\u001b[39m\u001b[38;5;124mk\u001b[39m\u001b[38;5;124m'\u001b[39m\n\u001b[1;32m     18\u001b[0m         mrk \u001b[38;5;241m=\u001b[39m \u001b[38;5;124m'\u001b[39m\u001b[38;5;124mo\u001b[39m\u001b[38;5;124m'\u001b[39m\n\u001b[1;32m     19\u001b[0m         \u001b[38;5;28;01mif\u001b[39;00m \u001b[38;5;124m'\u001b[39m\u001b[38;5;124mchi\u001b[39m\u001b[38;5;124m'\u001b[39m \u001b[38;5;129;01min\u001b[39;00m tmp \u001b[38;5;129;01mand\u001b[39;00m \u001b[38;5;241m1\u001b[39m \u001b[38;5;241m==\u001b[39m which \u001b[38;5;129;01mand\u001b[39;00m \u001b[38;5;124m'\u001b[39m\u001b[38;5;124mNN\u001b[39m\u001b[38;5;124m'\u001b[39m \u001b[38;5;129;01min\u001b[39;00m tmp[\u001b[38;5;124m'\u001b[39m\u001b[38;5;124mwhich\u001b[39m\u001b[38;5;124m'\u001b[39m]:\n",
      "\u001b[0;31mKeyError\u001b[0m: 1"
     ]
    },
    {
     "data": {
      "image/png": "[encoded data removed]",
      "text/plain": [
       "<Figure size 1200x400 with 3 Axes>"
      ]
     },
     "metadata": {},
     "output_type": "display_data"
    }
   ],
   "source": [
    "#plot_point(hz=0.01, ta=5.3780, E=1.0, s=0.6)\n",
    "for ta in [1.0, 2.0, 4.0, 5.3780]:\n",
    "    plot_point(hz=0.1233, ta=ta, E=1.0, s=0.6)  # 5.3780"
   ]
  },
  {
   "cell_type": "code",
   "execution_count": 9,
   "metadata": {},
   "outputs": [],
   "source": [
    "# (hz, ta, E, s, which)\n",
    "hz = '0.5000'\n",
    "E = '1.0'\n",
    "sf = '0.5'\n",
    "which = 1\n",
    "dd = {k: v for k, v in data.items() if k[0] == hz and k[2] == E and k[3] == sf and k[4] == which}"
   ]
  },
  {
   "cell_type": "code",
   "execution_count": 11,
   "metadata": {},
   "outputs": [
    {
     "data": {
      "image/png": "[encoded data removed]",
      "text/plain": [
       "<Figure size 640x480 with 1 Axes>"
      ]
     },
     "metadata": {},
     "output_type": "display_data"
    }
   ],
   "source": [
    "clrs = {'NN': 'k', 'NN+BP': 'b', 'BP': 'r'}\n",
    "for k, vs in dd.items():\n",
    "    ta = float(k[1])\n",
    "    for v in vs:    \n",
    "        plt.scatter([ta], [v['Ezz']], marker='+', color=clrs[v['which']])\n",
    "#plt.ylim([0.1, 1])\n",
    "plt.xscale('log')\n",
    "plt.yscale('log')"
   ]
  },
  {
   "cell_type": "code",
   "execution_count": null,
   "metadata": {},
   "outputs": [],
   "source": [
    "clrs = {'1': 'y', '2': 'g', '4': 'b', '8': 'r'}\n",
    "\n",
    "def plot_point(hz, ta, E, s):\n",
    "    if not isinstance(hz, str): hz = f\"{hz:0.4f}\"\n",
    "    if not isinstance(ta, str): ta = f\"{ta:0.4f}\"\n",
    "    if not isinstance(E, str):  E = f\"{E:0.1f}\"\n",
    "    if not isinstance(s, str):  s = f\"{s:0.1f}\"\n",
    "\n",
    "    fig, axs = plt.subplots(1, 3)\n",
    "    fig.set_size_inches((12, 4))\n",
    "    for i, val in [(0, 'Delta'), (1, 'Ezz'), (2, 'Ez')]:\n",
    "        ax = axs[i]\n",
    "        for which in [1, 2]:\n",
    "            ind = (hz, ta, E, s, which)\n",
    "            if ind in data:\n",
    "                for tmp in data[ind]:\n",
    "                    clr = clrs[tmp['chi']] if 'chi' in tmp else 'k'\n",
    "                    mrk = 'o'\n",
    "                    if 'chi' in tmp and 1 == which and 'NN' in tmp['which']:\n",
    "                        mrk = 'x' \n",
    "                    if 'chi' in tmp and 1 == which and 'NN' not in tmp['which']:\n",
    "                        mrk = '+' \n",
    "                    if 'chi' in tmp and 2 == which:\n",
    "                        mrk = '.'                     \n",
    "                    ax.scatter([1 / float(tmp[\"D\"])], \n",
    "                            [float(tmp[val])], color=clr, marker=mrk)\n",
    "            ax.set_xlabel('1 / D')\n",
    "        ax.set_ylabel(val)\n",
    "        ax.set_xlim([0, 0.3])\n",
    "    \n",
    "    dind = (hz, ta, E)\n",
    "    print(dind)\n",
    "    if dind in dwave:\n",
    "        axs[2].plot([0, 0.3], [dwave[dind]['Ez']] * 2)\n",
    "        axs[1].plot([0, 0.3], [dwave[dind]['Eng']] * 2)\n",
    "    if dind in mps:\n",
    "        axs[2].plot([0, 0.3], [mps[dind]['Ez']] * 2)\n",
    "        axs[1].plot([0, 0.3], [mps[dind]['Ezz']] * 2)\n",
    "\n",
    "\n",
    "    axs[0].set_ylim([1e-5, 10])\n",
    "    axs[0].set_yscale('log')\n",
    "    # axs[1].set_ylim([0, 1])\n",
    "    # axs[2].set_ylim([-1, 1])\n",
    "\n",
    "    for k, v in clrs.items():\n",
    "        axs[0].scatter([1], [1], marker='x', color=v, label=f\"1site NN+BP chi={k}\")\n",
    "        axs[0].scatter([1], [1], marker='+', color=v, label=f\"1site BP chi={k}\")\n",
    "        axs[0].scatter([1], [1], marker='.', color=v, label=f\"21site BP chi={k}\")\n",
    "\n",
    "    axs[0].scatter([1], [1], marker='o', color='k', label=f\"chi=4D\")\n",
    "    \n",
    "    axs[0].legend()\n",
    "    fig.suptitle(f\"hz={hz} ta={ta} E={E} s={s}\")\n",
    "    fig.tight_layout()\n"
   ]
  }
 ],
 "metadata": {
  "kernelspec": {
   "display_name": "yastn",
   "language": "python",
   "name": "python3"
  },
  "language_info": {
   "codemirror_mode": {
    "name": "ipython",
    "version": 3
   },
   "file_extension": ".py",
   "mimetype": "text/x-python",
   "name": "python",
   "nbconvert_exporter": "python",
   "pygments_lexer": "ipython3",
   "version": "3.12.8"
  }
 },
 "nbformat": 4,
 "nbformat_minor": 2
}
